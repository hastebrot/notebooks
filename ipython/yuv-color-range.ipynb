{
 "cells": [
  {
   "cell_type": "markdown",
   "metadata": {},
   "source": [
    "## Y'UV Color Range"
   ]
  },
  {
   "cell_type": "code",
   "execution_count": 1,
   "metadata": {
    "collapsed": true
   },
   "outputs": [],
   "source": [
    "%matplotlib inline"
   ]
  },
  {
   "cell_type": "code",
   "execution_count": 2,
   "metadata": {
    "collapsed": true
   },
   "outputs": [],
   "source": [
    "from __future__ import print_function\n",
    "import matplotlib.pyplot as plot"
   ]
  },
  {
   "cell_type": "code",
   "execution_count": 3,
   "metadata": {
    "collapsed": false
   },
   "outputs": [],
   "source": [
    "W_RED = 0.299\n",
    "W_GREEN = 0.587\n",
    "W_BLUE = 0.114\n",
    "\n",
    "U_FACTOR = 0.492\n",
    "V_FACTOR = 0.877\n",
    "\n",
    "def to_yuv(red, green, blue):\n",
    "    luma_y = (W_RED * red) + (W_GREEN * green) + (W_BLUE * blue)\n",
    "    chroma_u = U_FACTOR * (blue - luma_y)\n",
    "    chroma_v = V_FACTOR * (red - luma_y)\n",
    "    return (luma_y, chroma_u, chroma_v)\n",
    "  \n",
    "def to_rgb(yuv):\n",
    "    luma_y, chroma_u, chroma_v = yuv\n",
    "    red = luma_y + (1.14 * chroma_v)\n",
    "    green = luma_y - (0.395 * chroma_u) - (0.581 * chroma_v)\n",
    "    blue = luma_y + (2.033 * chroma_u)\n",
    "    return (int(round(red)), int(round(green)), int(round(blue)))\n",
    "\n",
    "def yuv_dist(yuv1, yuv2):\n",
    "    return (yuv1[0] - yuv2[0]) ** 2 + \\\n",
    "           (yuv1[1] - yuv2[1]) ** 2 + \\\n",
    "           (yuv1[2] - yuv2[2]) ** 2"
   ]
  },
  {
   "cell_type": "code",
   "execution_count": 4,
   "metadata": {
    "collapsed": false
   },
   "outputs": [
    {
     "name": "stdout",
     "output_type": "stream",
     "text": [
      "dist(min, max): 461.3515927142768\n",
      "dist(red, cyan): 338.2928543947083\n"
     ]
    }
   ],
   "source": [
    "U_MAX = 0.436\n",
    "V_MAX = 0.615\n",
    "min_yuv = (0, -U_MAX * 255, -V_MAX * 255)\n",
    "max_yuv = (255, U_MAX * 255, V_MAX * 255)\n",
    "\n",
    "red_yuv = to_yuv(255, 0, 0)\n",
    "cyan_yuv = to_yuv(0, 255, 255)\n",
    "\n",
    "print(\"dist(min, max):\", yuv_dist(min_yuv, max_yuv) ** 0.5)\n",
    "print(\"dist(red, cyan):\", yuv_dist(red_yuv, cyan_yuv) ** 0.5)"
   ]
  },
  {
   "cell_type": "code",
   "execution_count": 5,
   "metadata": {
    "collapsed": false
   },
   "outputs": [
    {
     "name": "stdout",
     "output_type": "stream",
     "text": [
      "num of colors: 5832\n",
      "color steps: range(0, 256, 15)\n"
     ]
    }
   ],
   "source": [
    "colors = []\n",
    "color_step = 15 # 255 has 8 divisors: 1, 3, 5, 15, 17, 51, 85, 255.\n",
    "for red in range(0, 255 + 1, color_step):\n",
    "    for green in range(0, 255 + 1, color_step):\n",
    "        for blue in range(0, 255 + 1, color_step):\n",
    "            color = to_yuv(red, green, blue)\n",
    "            colors.append(color)\n",
    "\n",
    "print(\"num of colors:\", len(colors))\n",
    "print(\"color steps:\", range(0, 255 + 1, color_step))"
   ]
  },
  {
   "cell_type": "code",
   "execution_count": 6,
   "metadata": {
    "collapsed": false
   },
   "outputs": [
    {
     "name": "stdout",
     "output_type": "stream",
     "text": [
      "max dist: 338.2928543947083\n"
     ]
    }
   ],
   "source": [
    "max_dist = 0\n",
    "for color_a in colors:\n",
    "    for color_b in colors:\n",
    "        dist = yuv_dist(color_a, color_b)\n",
    "        if dist > max_dist: max_dist = dist\n",
    "\n",
    "print(\"max dist:\", max_dist ** 0.5)"
   ]
  },
  {
   "cell_type": "code",
   "execution_count": 7,
   "metadata": {
    "collapsed": false
   },
   "outputs": [
    {
     "name": "stdout",
     "output_type": "stream",
     "text": [
      "338.2928543947083 (0, 255, 255) (255, 0, 0)\n",
      "338.2928543947083 (255, 0, 0) (0, 255, 255)\n",
      "334.989353150992 (0, 255, 240) (255, 0, 0)\n",
      "334.989353150992 (0, 255, 255) (255, 0, 15)\n",
      "334.989353150992 (255, 0, 0) (0, 255, 240)\n",
      "334.989353150992 (255, 0, 15) (0, 255, 255)\n",
      "331.7974276678819 (0, 255, 240) (255, 0, 15)\n",
      "331.7974276678819 (255, 0, 15) (0, 255, 240)\n",
      "331.79742766788183 (0, 255, 225) (255, 0, 0)\n",
      "331.79742766788183 (0, 255, 255) (255, 0, 30)\n",
      "331.79742766788183 (255, 0, 0) (0, 255, 225)\n",
      "331.79742766788183 (255, 0, 30) (0, 255, 255)\n",
      "330.6929739870048 (15, 255, 255) (255, 0, 0)\n",
      "330.6929739870048 (255, 0, 0) (15, 255, 255)\n",
      "330.6929739870048 (0, 255, 255) (240, 0, 0)\n",
      "330.6929739870048 (240, 0, 0) (0, 255, 255)\n",
      "329.54599011980235 (0, 255, 255) (255, 15, 0)\n",
      "329.54599011980235 (255, 15, 0) (0, 255, 255)\n",
      "329.54599011980224 (0, 240, 255) (255, 0, 0)\n",
      "329.54599011980224 (255, 0, 0) (0, 240, 255)\n",
      "328.7203282153832 (0, 255, 225) (255, 0, 15)\n",
      "328.7203282153832 (0, 255, 240) (255, 0, 30)\n",
      "328.7203282153832 (255, 0, 15) (0, 255, 225)\n",
      "328.7203282153832 (255, 0, 30) (0, 255, 240)\n",
      "328.7203282153831 (0, 255, 210) (255, 0, 0)\n",
      "328.7203282153831 (0, 255, 255) (255, 0, 45)\n",
      "328.7203282153831 (255, 0, 0) (0, 255, 210)\n",
      "328.7203282153831 (255, 0, 45) (0, 255, 255)\n",
      "327.375673160364 (0, 255, 240) (240, 0, 0)\n",
      "327.375673160364 (15, 255, 240) (255, 0, 0)\n",
      "327.375673160364 (15, 255, 255) (255, 0, 15)\n",
      "327.375673160364 (240, 0, 0) (0, 255, 240)\n",
      "327.375673160364 (255, 0, 0) (15, 255, 240)\n",
      "327.375673160364 (255, 0, 15) (15, 255, 255)\n",
      "327.37567316036393 (0, 255, 255) (240, 0, 15)\n",
      "327.37567316036393 (240, 0, 15) (0, 255, 255)\n",
      "326.14872841139487 (0, 240, 240) (255, 0, 0)\n",
      "326.14872841139487 (0, 240, 255) (255, 0, 15)\n",
      "326.14872841139487 (0, 255, 240) (255, 15, 0)\n",
      "326.14872841139487 (0, 255, 255) (255, 15, 15)\n",
      "326.14872841139487 (255, 0, 0) (0, 240, 240)\n",
      "326.14872841139487 (255, 0, 15) (0, 240, 255)\n",
      "326.14872841139487 (255, 15, 0) (0, 255, 240)\n",
      "326.14872841139487 (255, 15, 15) (0, 255, 255)\n",
      "325.7613087055271 (0, 255, 195) (255, 0, 0)\n",
      "325.7613087055271 (0, 255, 210) (255, 0, 15)\n",
      "325.7613087055271 (0, 255, 225) (255, 0, 30)\n",
      "325.7613087055271 (0, 255, 240) (255, 0, 45)\n",
      "325.7613087055271 (0, 255, 255) (255, 0, 60)\n",
      "325.7613087055271 (255, 0, 0) (0, 255, 195)\n"
     ]
    }
   ],
   "source": [
    "filter_dist = max_dist - (max_dist / 10.0)\n",
    "dists = []\n",
    "for color_a in colors:\n",
    "    for color_b in colors:\n",
    "        dist = yuv_dist(color_a, color_b)\n",
    "        if dist > filter_dist:\n",
    "            dists.append((dist, color_a, color_b))\n",
    "\n",
    "dists = sorted(dists, key=lambda d: -d[0])\n",
    "for dist in dists[0:50]: print(dist[0] ** 0.5, to_rgb(dist[1]), to_rgb(dist[2]))"
   ]
  },
  {
   "cell_type": "code",
   "execution_count": null,
   "metadata": {
    "collapsed": true
   },
   "outputs": [],
   "source": []
  }
 ],
 "metadata": {
  "kernelspec": {
   "display_name": "Python 3",
   "language": "python",
   "name": "python3"
  },
  "language_info": {
   "codemirror_mode": {
    "name": "ipython",
    "version": 3
   },
   "file_extension": ".py",
   "mimetype": "text/x-python",
   "name": "python",
   "nbconvert_exporter": "python",
   "pygments_lexer": "ipython3",
   "version": "3.4.3"
  }
 },
 "nbformat": 4,
 "nbformat_minor": 0
}
