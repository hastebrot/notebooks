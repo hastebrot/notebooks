{
 "cells": [
  {
   "cell_type": "markdown",
   "metadata": {},
   "source": [
    "## Y'IQ (Kotsarenko-Ramos) Color Distance"
   ]
  },
  {
   "cell_type": "code",
   "execution_count": 1,
   "metadata": {
    "collapsed": true
   },
   "outputs": [],
   "source": [
    "%matplotlib inline"
   ]
  },
  {
   "cell_type": "code",
   "execution_count": 2,
   "metadata": {
    "collapsed": true
   },
   "outputs": [],
   "source": [
    "from __future__ import print_function\n",
    "import matplotlib.pyplot as plot"
   ]
  },
  {
   "cell_type": "code",
   "execution_count": 3,
   "metadata": {
    "collapsed": false
   },
   "outputs": [],
   "source": [
    "def to_yiq(red, green, blue):\n",
    "    luma_y   = (red * 0.29889531) + (green * 0.58662247) + (blue * 0.11448223)\n",
    "    chroma_i = (red * 0.59597799) - (green * 0.27417610) - (blue * 0.32180189)\n",
    "    chroma_q = (red * 0.21147017) - (green * 0.52261711) + (blue * 0.31114694)\n",
    "    return (luma_y, chroma_i, chroma_q)\n",
    "\n",
    "def to_rgb(yuv):\n",
    "    luma_y, chroma_u, chroma_v = yuv\n",
    "    red   = (luma_y * 1.00000000) + (chroma_u * 0.95608445) + (chroma_v * 0.62088850)\n",
    "    green = (luma_y * 1.00000000) - (chroma_u * 0.27137664) - (chroma_v * 0.64860590)\n",
    "    blue  = (luma_y * 1.00000000) - (chroma_u * 1.10561724) + (chroma_v * 1.70250126)\n",
    "    return (int(round(red)), int(round(green)), int(round(blue)))\n",
    "\n",
    "def yiq_dist_squared(yiq1, yiq2):\n",
    "    diff_y = yiq1[0] - yiq2[0]\n",
    "    diff_i = yiq1[1] - yiq2[1]\n",
    "    diff_q = yiq1[2] - yiq2[2]\n",
    "    return (0.5053 * diff_y * diff_y) + \\\n",
    "           (0.299  * diff_i * diff_i) + \\\n",
    "           (0.1957 * diff_q * diff_q)"
   ]
  },
  {
   "cell_type": "code",
   "execution_count": 4,
   "metadata": {
    "collapsed": false
   },
   "outputs": [
    {
     "name": "stdout",
     "output_type": "stream",
     "text": [
      "num of colors: 5832\n",
      "color steps: range(0, 256, 15)\n",
      "minmax(y): 0.0 255.00000255\n",
      "minmax(i): -151.97438745 151.97438745\n",
      "minmax(q): -133.26736305 133.26736305\n"
     ]
    }
   ],
   "source": [
    "colors = []\n",
    "color_step = 15 # 255 has 8 divisors: 1, 3, 5, 15, 17, 51, 85, 255.\n",
    "for red in range(0, 255 + 1, color_step):\n",
    "    for green in range(0, 255 + 1, color_step):\n",
    "        for blue in range(0, 255 + 1, color_step):\n",
    "            color = to_yiq(red, green, blue)\n",
    "            colors.append(color)\n",
    "\n",
    "print(\"num of colors:\", len(colors))\n",
    "print(\"color steps:\", range(0, 255 + 1, color_step))\n",
    "\n",
    "print(\"minmax(y):\", min(c[0] for c in colors), max(c[0] for c in colors))\n",
    "print(\"minmax(i):\", min(c[1] for c in colors), max(c[1] for c in colors))\n",
    "print(\"minmax(q):\", min(c[2] for c in colors), max(c[2] for c in colors))"
   ]
  },
  {
   "cell_type": "code",
   "execution_count": 5,
   "metadata": {
    "collapsed": false
   },
   "outputs": [
    {
     "name": "stdout",
     "output_type": "stream",
     "text": [
      "dist(min, max): 272.7322528519619\n",
      "dist(red, cyan): 187.6559323748062\n"
     ]
    }
   ],
   "source": [
    "Y_MIN, Y_MAX = 0.0, 255.0\n",
    "I_MIN, I_MAX = -151.97438745, 151.97438745\n",
    "Q_MIN, Q_MAX = -133.26736305, 133.26736305\n",
    "min_yiq = (Y_MIN, I_MIN, Q_MIN)\n",
    "max_yiq = (Y_MAX, I_MAX, Q_MAX)\n",
    "\n",
    "red_yiq = to_yiq(255, 0, 0)\n",
    "cyan_yiq = to_yiq(0, 255, 255)\n",
    "\n",
    "print(\"dist(min, max):\", yiq_dist_squared(min_yiq, max_yiq) ** 0.5)\n",
    "print(\"dist(red, cyan):\", yiq_dist_squared(red_yiq, cyan_yiq) ** 0.5)"
   ]
  },
  {
   "cell_type": "code",
   "execution_count": 6,
   "metadata": {
    "collapsed": false
   },
   "outputs": [
    {
     "name": "stdout",
     "output_type": "stream",
     "text": [
      "max dist: 187.6559323748062\n"
     ]
    }
   ],
   "source": [
    "max_dist = 0\n",
    "for color_a in colors:\n",
    "    for color_b in colors:\n",
    "        dist = yiq_dist_squared(color_a, color_b)\n",
    "        if dist > max_dist: max_dist = dist\n",
    "\n",
    "print(\"max dist:\", max_dist ** 0.5)"
   ]
  },
  {
   "cell_type": "code",
   "execution_count": 7,
   "metadata": {
    "collapsed": false
   },
   "outputs": [
    {
     "name": "stdout",
     "output_type": "stream",
     "text": [
      "187.6559323748062 (0, 255, 255) (255, 0, 0)\n",
      "187.6559323748062 (255, 0, 0) (0, 255, 255)\n",
      "185.38911269810964 (0, 255, 240) (255, 0, 0)\n",
      "185.38911269810964 (0, 255, 255) (255, 0, 15)\n",
      "185.38911269810964 (255, 0, 0) (0, 255, 240)\n",
      "185.38911269810964 (255, 0, 15) (0, 255, 255)\n",
      "184.2734218653392 (0, 255, 255) (240, 0, 0)\n",
      "184.2734218653392 (240, 0, 0) (0, 255, 255)\n",
      "184.27342186533917 (15, 255, 255) (255, 0, 0)\n",
      "184.27342186533917 (255, 0, 0) (15, 255, 255)\n",
      "183.16368830724906 (0, 255, 225) (255, 0, 0)\n",
      "183.16368830724906 (0, 255, 240) (255, 0, 15)\n",
      "183.16368830724906 (0, 255, 255) (255, 0, 30)\n",
      "183.16368830724906 (255, 0, 0) (0, 255, 225)\n",
      "183.16368830724906 (255, 0, 15) (0, 255, 240)\n",
      "183.16368830724906 (255, 0, 30) (0, 255, 255)\n",
      "182.42935005238863 (0, 240, 255) (255, 0, 0)\n",
      "182.42935005238863 (0, 255, 255) (255, 15, 0)\n",
      "182.42935005238863 (255, 0, 0) (0, 240, 255)\n",
      "182.42935005238863 (255, 15, 0) (0, 255, 255)\n",
      "181.99807099131465 (0, 255, 240) (240, 0, 0)\n",
      "181.99807099131465 (0, 255, 255) (240, 0, 15)\n",
      "181.99807099131465 (15, 255, 240) (255, 0, 0)\n",
      "181.99807099131465 (240, 0, 0) (0, 255, 240)\n",
      "181.99807099131465 (240, 0, 15) (0, 255, 255)\n",
      "181.99807099131465 (255, 0, 0) (15, 255, 240)\n",
      "181.99807099131462 (15, 255, 255) (255, 0, 15)\n",
      "181.99807099131462 (255, 0, 15) (15, 255, 255)\n",
      "181.2653666786423 (0, 0, 0) (255, 255, 255)\n",
      "181.2653666786423 (255, 255, 255) (0, 0, 0)\n",
      "181.02674467402593 (0, 255, 255) (225, 0, 0)\n",
      "181.02674467402593 (30, 255, 255) (255, 0, 0)\n",
      "181.02674467402593 (225, 0, 0) (0, 255, 255)\n",
      "181.02674467402593 (255, 0, 0) (30, 255, 255)\n",
      "181.0267446740259 (15, 255, 255) (240, 0, 0)\n",
      "181.0267446740259 (240, 0, 0) (15, 255, 255)\n",
      "180.98118625267642 (0, 255, 210) (255, 0, 0)\n",
      "180.98118625267642 (0, 255, 255) (255, 0, 45)\n",
      "180.98118625267642 (255, 0, 0) (0, 255, 210)\n",
      "180.98118625267642 (255, 0, 45) (0, 255, 255)\n",
      "180.9811862526764 (0, 255, 225) (255, 0, 15)\n",
      "180.9811862526764 (0, 255, 240) (255, 0, 30)\n",
      "180.9811862526764 (255, 0, 15) (0, 255, 225)\n",
      "180.9811862526764 (255, 0, 30) (0, 255, 240)\n",
      "180.31890431181324 (0, 0, 255) (255, 255, 0)\n",
      "180.31890431181324 (255, 255, 0) (0, 0, 255)\n",
      "180.13235046897043 (0, 240, 255) (255, 0, 15)\n",
      "180.13235046897043 (255, 0, 15) (0, 240, 255)\n",
      "180.13235046897043 (0, 240, 240) (255, 0, 0)\n",
      "180.13235046897043 (0, 255, 240) (255, 15, 0)\n"
     ]
    }
   ],
   "source": [
    "filter_dist = max_dist - (max_dist / 10.0)\n",
    "dists = []\n",
    "for color_a in colors:\n",
    "    for color_b in colors:\n",
    "        dist = yiq_dist_squared(color_a, color_b)\n",
    "        if dist > filter_dist:\n",
    "            dists.append((dist, color_a, color_b))\n",
    "\n",
    "dists = sorted(dists, key=lambda d: -d[0])\n",
    "for dist in dists[0:50]: print(dist[0] ** 0.5, to_rgb(dist[1]), to_rgb(dist[2]))"
   ]
  }
 ],
 "metadata": {
  "kernelspec": {
   "display_name": "Python 3",
   "language": "python",
   "name": "python3"
  },
  "language_info": {
   "codemirror_mode": {
    "name": "ipython",
    "version": 3
   },
   "file_extension": ".py",
   "mimetype": "text/x-python",
   "name": "python",
   "nbconvert_exporter": "python",
   "pygments_lexer": "ipython3",
   "version": "3.4.3"
  }
 },
 "nbformat": 4,
 "nbformat_minor": 0
}
